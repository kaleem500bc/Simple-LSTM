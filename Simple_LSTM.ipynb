{
  "nbformat": 4,
  "nbformat_minor": 0,
  "metadata": {
    "colab": {
      "name": "Simple LSTM.ipynb",
      "provenance": [],
      "collapsed_sections": [],
      "authorship_tag": "ABX9TyO50uw3yErJ2znv0tBMZZj8",
      "include_colab_link": true
    },
    "kernelspec": {
      "name": "python3",
      "display_name": "Python 3"
    },
    "accelerator": "GPU"
  },
  "cells": [
    {
      "cell_type": "markdown",
      "metadata": {
        "id": "view-in-github",
        "colab_type": "text"
      },
      "source": [
        "<a href=\"https://colab.research.google.com/github/kaleem500bc/Simple-LSTM/blob/master/Simple_LSTM.ipynb\" target=\"_parent\"><img src=\"https://colab.research.google.com/assets/colab-badge.svg\" alt=\"Open In Colab\"/></a>"
      ]
    },
    {
      "cell_type": "code",
      "metadata": {
        "id": "6hiRYfyNse10",
        "colab_type": "code",
        "colab": {}
      },
      "source": [
        "import torch\n",
        "import torchtext\n",
        "from torch import nn\n",
        "import random\n",
        "from torch.nn import functional as F\n",
        "import numpy as np\n",
        "from matplotlib import pyplot as plt\n",
        "from threading import Thread\n",
        "import threading"
      ],
      "execution_count": null,
      "outputs": []
    },
    {
      "cell_type": "code",
      "metadata": {
        "id": "O6r52rI6jD8r",
        "colab_type": "code",
        "colab": {}
      },
      "source": [
        "#Dataset\n",
        "dataFile = open(\"/content/anna.txt\")\n",
        "\n",
        "data = dataFile.read()\n"
      ],
      "execution_count": null,
      "outputs": []
    },
    {
      "cell_type": "code",
      "metadata": {
        "id": "ljYvC_o8eyX8",
        "colab_type": "code",
        "colab": {}
      },
      "source": [
        "#Distinct vocabulary in the dataset\n",
        "vocab = set(data)\n",
        "\n",
        "vocab_size = len(vocab)\n",
        "\n",
        "int2char = dict(enumerate(vocab))\n",
        "\n",
        "char2int = dict(zip(int2char.values(),int2char.keys()))"
      ],
      "execution_count": null,
      "outputs": []
    },
    {
      "cell_type": "code",
      "metadata": {
        "id": "HjZcEHYePALJ",
        "colab_type": "code",
        "colab": {}
      },
      "source": [
        "#encode our training dataset for input to the NN\n",
        "encoded_text = [char2int[i] for i in data]"
      ],
      "execution_count": null,
      "outputs": []
    },
    {
      "cell_type": "code",
      "metadata": {
        "id": "RAqU-3VKPy6N",
        "colab_type": "code",
        "colab": {}
      },
      "source": [
        "def get_batches(encodedText,batchSize,seqLen):\n",
        "  #Each batch has this size\n",
        "  totalBatchLen = batchSize*seqLen\n",
        "\n",
        "  #input batches: Dimension (Number of batches, batch size, sequence length)\n",
        "  xtotalLen = encodedText.shape[0]\n",
        "  xnumBatches = xtotalLen//totalBatchLen\n",
        "  xlength = xnumBatches*totalBatchLen\n",
        "  xencoded = encodedText[:xlength]\n",
        "  xencoded = xencoded.view(xnumBatches,batchSize,seqLen)\n",
        "\n",
        "  #Label\n",
        "  ytotalLen = encodedText.shape[0]-1\n",
        "  ynumBatches = ytotalLen // totalBatchLen\n",
        "  ylength = ynumBatches*totalBatchLen\n",
        "  yencoded = encodedText[1:ylength+1]\n",
        "  yencoded = yencoded.view(ynumBatches,batchSize,seqLen)\n",
        "\n",
        "  return xencoded,yencoded\n"
      ],
      "execution_count": null,
      "outputs": []
    },
    {
      "cell_type": "code",
      "metadata": {
        "id": "RzK-65sXzC0r",
        "colab_type": "code",
        "colab": {}
      },
      "source": [
        "batchSize = 128\n",
        "seqLen = 100\n",
        "x,y = get_batches(torch.tensor(encoded_text,dtype=torch.float),batchSize,seqLen)\n",
        "x.requires_grad = True\n",
        "y.requires_grad = True"
      ],
      "execution_count": null,
      "outputs": []
    },
    {
      "cell_type": "code",
      "metadata": {
        "id": "Ww2eYzOt94h3",
        "colab_type": "code",
        "colab": {
          "base_uri": "https://localhost:8080/",
          "height": 51
        },
        "outputId": "a36895e4-65b1-4dd7-e575-81ef56d09223"
      },
      "source": [
        "print(x.shape)\n",
        "print(y.shape)"
      ],
      "execution_count": null,
      "outputs": [
        {
          "output_type": "stream",
          "text": [
            "torch.Size([155, 128, 100])\n",
            "torch.Size([155, 128, 100])\n"
          ],
          "name": "stdout"
        }
      ]
    },
    {
      "cell_type": "code",
      "metadata": {
        "id": "H6LVgCUDblPU",
        "colab_type": "code",
        "colab": {}
      },
      "source": [
        "\n",
        "#encode each letter into one hot encoding for multiclass classification for better result\n",
        "#In our case we have vocab_size number of classes as each letter is used as a separate class.\n",
        "def one_hot(x, labels):\n",
        "  one_hot = torch.zeros(np.multiply(*x.shape),labels,dtype=torch.float)\n",
        "  one_hot[torch.arange(one_hot.shape[0]),x.flatten().long()] = 1\n",
        "  return one_hot.view((*x.shape,labels))\n",
        "\n"
      ],
      "execution_count": null,
      "outputs": []
    },
    {
      "cell_type": "code",
      "metadata": {
        "id": "BhhdTdFp-HFc",
        "colab_type": "code",
        "colab": {
          "base_uri": "https://localhost:8080/",
          "height": 102
        },
        "outputId": "422c2926-0f1e-4792-8ee2-20b8cfba444e"
      },
      "source": [
        "class lstmM(nn.Module):\n",
        "  def __init__(self,vocab_size,bidirection=0):\n",
        "    super().__init__()\n",
        "    self.hidden = 512\n",
        "    self.numlayers = 2\n",
        "    self.bdr = bidirection+1\n",
        "    # self.embd = nn.Embedding(vocab_size,10)\n",
        "    self.lstm = nn.LSTM(vocab_size,self.hidden,num_layers=self.numlayers,dropout=0.5,bidirectional=False,batch_first=True)\n",
        "    self.dropout = nn.Dropout(0.5)\n",
        "    self.f = nn.Linear(self.hidden*self.bdr,vocab_size)\n",
        "\n",
        "  def forward(self,x,prevH):\n",
        "    # x = self.embd(x)\n",
        "    x,(h,c) = self.lstm(x,prevH)\n",
        "    x = self.dropout(x)\n",
        "    x = x.view(-1, self.hidden*self.bdr)\n",
        "    x = self.f(x)\n",
        "    \n",
        "    return x,(h,c)\n",
        "\n",
        "  def init_hidden(self, batch_size):\n",
        "    param = self.parameters()\n",
        "    p = next(param)\n",
        "    weight = p.data\n",
        "        \n",
        "    hidden = (weight.new(self.numlayers*self.bdr, batch_size, self.hidden).zero_().cuda(),\n",
        "                  weight.new(self.numlayers*self.bdr, batch_size, self.hidden).zero_().cuda())\n",
        "        \n",
        "    return hidden\n",
        "\n",
        "\n",
        "model = lstmM(vocab_size)\n",
        "\n",
        "model.to(\"cuda\")"
      ],
      "execution_count": null,
      "outputs": [
        {
          "output_type": "execute_result",
          "data": {
            "text/plain": [
              "lstmM(\n",
              "  (lstm): LSTM(83, 512, num_layers=2, batch_first=True, dropout=0.5)\n",
              "  (dropout): Dropout(p=0.5, inplace=False)\n",
              "  (f): Linear(in_features=512, out_features=83, bias=True)\n",
              ")"
            ]
          },
          "metadata": {
            "tags": []
          },
          "execution_count": 35
        }
      ]
    },
    {
      "cell_type": "code",
      "metadata": {
        "id": "OnS62w-fjFju",
        "colab_type": "code",
        "colab": {}
      },
      "source": [
        "criterion = nn.CrossEntropyLoss()\n",
        "optim = torch.optim.Adam(model.parameters(),lr = 0.01)\n",
        "lossHist = []\n",
        "\n",
        "\n",
        "#Run training in background\n",
        "class Train(Thread):\n",
        "  def __init__(self,x,y,epoch):\n",
        "    Thread.__init__(self)\n",
        "    self.x = x\n",
        "    self.y = y\n",
        "    self.epoch = epoch\n",
        "\n",
        "  def run(self):\n",
        "    # global lossHist,x,y\n",
        "    # epoch = 10\n",
        "    epoch = self.epoch\n",
        "    x = self.x\n",
        "    y = self.y\n",
        "    model.train()\n",
        "    for e in range(epoch):\n",
        "      h = model.init_hidden(128)\n",
        "      tloss = 0\n",
        "\n",
        "      i = 0\n",
        "      for batch,target in zip(x,y):\n",
        "        batch = batch.to(\"cuda\")\n",
        "        batch = one_hot(batch,vocab_size).to(\"cuda\")\n",
        "        target = target.to(\"cuda\")\n",
        "        output,(h,c) = model(batch,h)\n",
        "        h = (h.detach(),c.detach())\n",
        "      \n",
        "        optim.zero_grad()\n",
        "\n",
        "        loss = criterion(output,target.view(128*100).long())\n",
        "        loss.backward()\n",
        "        nn.utils.clip_grad_norm_(model.parameters(), 5)\n",
        "        optim.step()\n",
        "        \n",
        "        tloss = tloss+loss.item()\n",
        "        \n",
        "      lossHist.append(tloss)\n",
        "      print(tloss)\n",
        "\n",
        "\n"
      ],
      "execution_count": null,
      "outputs": []
    },
    {
      "cell_type": "code",
      "metadata": {
        "id": "EfyaZ7GVc7gz",
        "colab_type": "code",
        "colab": {}
      },
      "source": [
        "epoch = 10\n",
        "\n",
        "#create thread and run\n",
        "training = Train(x,y,epoch)\n",
        "training.name = \"training\"\n",
        "training.start()\n",
        "#check whether our thread is running\n",
        "for thread in threading.enumerate():\n",
        "  print(thread.name)"
      ],
      "execution_count": null,
      "outputs": []
    },
    {
      "cell_type": "code",
      "metadata": {
        "id": "63Ldfmg1Hchv",
        "colab_type": "code",
        "colab": {}
      },
      "source": [
        "#waiting for the main thread\n",
        "training.join()"
      ],
      "execution_count": null,
      "outputs": []
    },
    {
      "cell_type": "code",
      "metadata": {
        "id": "hVhHlohi6ipq",
        "colab_type": "code",
        "colab": {
          "base_uri": "https://localhost:8080/",
          "height": 282
        },
        "outputId": "bc38b826-fd4f-425d-80a1-e0e46db6c3e0"
      },
      "source": [
        "#plot the loss over epoch\n",
        "plt.plot(lossHist)"
      ],
      "execution_count": null,
      "outputs": [
        {
          "output_type": "execute_result",
          "data": {
            "text/plain": [
              "[<matplotlib.lines.Line2D at 0x7fd05a0c8c18>]"
            ]
          },
          "metadata": {
            "tags": []
          },
          "execution_count": 47
        },
        {
          "output_type": "display_data",
          "data": {
            "image/png": "[encoded data removed]",
            "text/plain": [
              "<Figure size 432x288 with 1 Axes>"
            ]
          },
          "metadata": {
            "tags": [],
            "needs_background": "light"
          }
        }
      ]
    },
    {
      "cell_type": "code",
      "metadata": {
        "id": "GovKwg10VhnP",
        "colab_type": "code",
        "colab": {}
      },
      "source": [
        "\n",
        "def predict(char, h=None, top_k=None):\n",
        "  x=torch.tensor([[char2int[char]]])\n",
        "  x=one_hot(x,vocab_size)\n",
        "  x = x.cuda()\n",
        "  h = tuple([each.data for each in h])\n",
        "  out, h = model(x, h)\n",
        "  p=F.softmax(out, dim=1).data\n",
        "  \n",
        "  p = p.cpu()\n",
        "  if top_k is None:\n",
        "    top_ch = np.arange(vocab_size)\n",
        "  else:\n",
        "    p, top_ch = p.topk(top_k)\n",
        "    top_ch = top_ch.numpy().squeeze()\n",
        "  p= p.numpy().squeeze()\n",
        "  char = np.random.choice(top_ch, p=p/p.sum())\n",
        "  return int2char[char], h"
      ],
      "execution_count": null,
      "outputs": []
    },
    {
      "cell_type": "code",
      "metadata": {
        "id": "kvOrvMcuCvHw",
        "colab_type": "code",
        "colab": {}
      },
      "source": [
        "def sample(size, prime = 'I am goi', top_k = None):\n",
        "  \n",
        "  model.cuda()\n",
        "  model.eval()\n",
        "  \n",
        "  chars = [ch for ch in prime]\n",
        "  h = model.init_hidden(1)\n",
        "\n",
        "  for ch in prime:\n",
        "    char, h= predict(ch, h, top_k=top_k)\n",
        "  chars.append(char)\n",
        "\n",
        "  for ii in range(size):\n",
        "    char, h = predict(chars[-1], h, top_k=top_k)\n",
        "    chars.append(char)\n",
        "  return ''.join(chars)"
      ],
      "execution_count": null,
      "outputs": []
    },
    {
      "cell_type": "code",
      "metadata": {
        "id": "oIJi-ds7VVwE",
        "colab_type": "code",
        "colab": {
          "base_uri": "https://localhost:8080/",
          "height": 394
        },
        "outputId": "820d83ce-fa2f-4d8e-ee3a-47ba9bf60b44"
      },
      "source": [
        "print(sample(1000,prime=\"I am goin\"))"
      ],
      "execution_count": null,
      "outputs": [
        {
          "output_type": "stream",
          "text": [
            "I am going\n",
            "to\n",
            "the same thing,\n",
            "and you know I knot him but significanations that uptly that the officer, and been like its\n",
            "second pain weary hating any window, and had\n",
            "seeing the due with his wife.\n",
            "\n",
            "Swe will understand thoogse do they? How are you an one\n",
            "to the\n",
            "teach whole note, thiugh he refund for, Who did\n",
            "not do cold, cleft he dropped on the mind,\n",
            "country with his influence\n",
            "cold mounte stack of patain is\n",
            "kinchantous after the sire of which\n",
            "except his hands who was trying\n",
            "merely tears with it is!\" he said, strusking himself, and he advised ever digination\n",
            "with their blook to place by which hame. Anna answered, and ask without the urmmenty in what Snoped not help their\n",
            "passadence then it was Alexey Alexandrovitch, responded from the box to snot sent to be going out when the horse drave stopped over the group by these day, with him. Without any bebuskys and speaking and trousering crowd and thinking of all, and been over.\n",
            "\n",
            "\"Oh, roomek minute to yevcontant\n",
            "Grisha out of everything for myself that.\n"
          ],
          "name": "stdout"
        }
      ]
    },
    {
      "cell_type": "code",
      "metadata": {
        "id": "ptY7wrkc7QAe",
        "colab_type": "code",
        "colab": {}
      },
      "source": [
        ""
      ],
      "execution_count": null,
      "outputs": []
    }
  ]
}